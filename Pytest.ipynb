{
 "cells": [
  {
   "cell_type": "code",
   "execution_count": 2,
   "id": "d52fd9f5-ab13-4757-be74-8d61c5eb31ae",
   "metadata": {
    "executionCancelledAt": null,
    "executionTime": 2960,
    "lastExecutedAt": 1708011212299,
    "lastScheduledRunId": null,
    "lastSuccessfullyExecutedCode": "%run \"Analysis.ipynb\"\nimport ipytest\nimport shutil\nipytest.autoconfig()  # Konfiguriert ipytest automatisch für das Notebook\n\n# Pfad zur Produktionsdatenbank und CSV-Dateien\nprod_db_path = \"sqldatabase.sqlite\"\nprod_train_csv = \"train.csv\"\nprod_ideal_csv = \"ideal.csv\"\nprod_test_csv = \"test.csv\"\n\n# Pfad zur Testdatenbank und Test-CSV-Dateien\ntest_db_path = \"test_database.db\"\ntest_train_csv = \"test_train.csv\"\ntest_ideal_csv = \"test_ideal.csv\"\ntest_test_csv = \"test_test.csv\"\n\n# Kopieren der Produktionsdatenbank und CSV-Dateien für Testzwecke\nshutil.copy(prod_db_path, test_db_path)\nshutil.copy(prod_train_csv, test_train_csv)\nshutil.copy(prod_ideal_csv, test_ideal_csv)\nshutil.copy(prod_test_csv, test_test_csv)\n\n# Test der Kernfunktionen\n\n# Test für die Verbindung zur Datenbank\ndef test_connect_to_db():\n    \"\"\"\n    Testet die Methode `connect_to_db`\n    \"\"\"\n    data_operation = DataOperation(test_db_path)\n    data_operation.connect_to_db()\n    assert data_operation.conn is not None, \"Verbindung zur Datenbank konnte nicht hergestellt werden.\"\n\n# Test für den Datenimport\ndef test_import_data():\n    \"\"\"\n    Testet die Methode `import_data`\n    \"\"\"\n    data_importer = DataImport(test_db_path)\n    data_importer.connect_to_db()\n    data_importer.import_data(test_train_csv, 'training_data')\n    data_importer.import_data(test_ideal_csv, 'ideal_functions')\n    data_importer.import_data(test_test_csv, 'test_data')\n  \n    # Überprüfung, ob Daten importiert wurden\n    train_df = pd.read_sql(\"SELECT * FROM training_data\", data_importer.conn)\n    ideal_df = pd.read_sql(\"SELECT * FROM ideal_functions\", data_importer.conn)\n    test_df = pd.read_sql(\"SELECT * FROM test_data\", data_importer.conn)\n\n    assert not train_df.empty, \"Trainingsdaten wurden nicht korrekt importiert.\"\n    assert not ideal_df.empty, \"Ideale Funktionen wurden nicht korrekt importiert.\"\n    assert not test_df.empty, \"Testdaten wurden nicht korrekt importiert.\"\n    \n # Test für das Finden der besten Passungen\ndef test_find_best_fits():\n    \"\"\"\n    Testet die Methode `find_best_fits`\n    \"\"\"\n    # Annahme: Testdatenbank und -datensätze sind bereits vorbereitet\n    analysis = DataAnalysis(\"test_database.db\")\n    analysis.connect_to_db()\n    analysis.load_data_from_sql()\n    analysis.find_best_fits()\n    \n    assert not analysis.best_fits_df.empty, \"DataFrame mit besten Passungen ist leer.\"\n    assert len(analysis.best_fits_df) == 4, \"DataFrame mit besten Passungen enthält nicht die erwartete Anzahl an Zeilen.\"\n\n# Test für die Berechnung der maximalen Abweichungen\ndef test_calculate_max_deviations():\n    \"\"\"\n    Testet die Methode `calculate_max_deviations`\n    \"\"\"\n    analysis = DataAnalysis(\"test_database.db\")\n    analysis.connect_to_db()\n    analysis.load_data_from_sql()\n    analysis.find_best_fits()\n    analysis.calculate_max_deviations()\n    \n    assert len(analysis.max_deviations) == len(analysis.best_fits_df), \"Anzahl der maximalen Abweichungen stimmt nicht mit der Anzahl der besten Passungen überein.\"\n    for deviation in analysis.max_deviations.values():\n        assert deviation >= 0, \"Eine maximale Abweichung ist negativ.\"\n\n# Test für die Validierung der Testdaten\ndef test_validate_test_data():\n    \"\"\"\n    Testet die Methode `validate_test_data`\n    \"\"\"\n    analysis = DataAnalysis(\"test_database.db\")\n    analysis.connect_to_db()\n    analysis.load_data_from_sql()\n    analysis.find_best_fits()\n    analysis.calculate_max_deviations()\n    analysis.validate_test_data()\n    \n    assert not analysis.valid_test_results_df.empty, \"DataFrame mit validierten Testdaten ist leer.\"\n    assert all(analysis.valid_test_results_df[\"Abweichung\"] >= 0), \"Es existiert eine negative Abweichung in den validierten Testdaten.\"   \n\n# Ausführung der Tests\nipytest.run()",
    "outputsMetadata": {
     "0": {
      "height": 217,
      "type": "stream"
     }
    }
   },
   "outputs": [
    {
     "name": "stdout",
     "output_type": "stream",
     "text": [
      "DB-Verbindung erfolgreich hergestellt.\n",
      "SQL-DB erstellt\n",
      "Daten erfolgreich importiert zu training_data.\n",
      "Daten erfolgreich importiert zu ideal_functions.\n",
      "Daten erfolgreich importiert zu test_data.\n",
      "SQL-Tabellen erstellt\n",
      "DB-Verbindung erfolgreich hergestellt.\n",
      "Analyse und Validierung erfolgreich abgeschlossen.\n",
      "\u001b[32m.\u001b[0m\u001b[32m.\u001b[0m\u001b[32m.\u001b[0m\u001b[32m.\u001b[0m\u001b[32m.\u001b[0m\u001b[32m                                                                                        [100%]\u001b[0m\n",
      "\u001b[32m\u001b[32m\u001b[1m5 passed\u001b[0m\u001b[32m in 0.36s\u001b[0m\u001b[0m\n"
     ]
    },
    {
     "data": {
      "text/plain": [
       "<ExitCode.OK: 0>"
      ]
     },
     "execution_count": 2,
     "metadata": {},
     "output_type": "execute_result"
    }
   ],
   "source": [
    "%run \"Analysis.ipynb\"\n",
    "import ipytest\n",
    "import shutil\n",
    "ipytest.autoconfig()  # Konfiguriert ipytest automatisch für das Notebook\n",
    "\n",
    "# Pfad zur Produktionsdatenbank und CSV-Dateien\n",
    "prod_db_path = \"sqldatabase.sqlite\"\n",
    "prod_train_csv = \"train.csv\"\n",
    "prod_ideal_csv = \"ideal.csv\"\n",
    "prod_test_csv = \"test.csv\"\n",
    "\n",
    "# Pfad zur Testdatenbank und Test-CSV-Dateien\n",
    "test_db_path = \"test_database.sqlite\"\n",
    "test_train_csv = \"test_train.csv\"\n",
    "test_ideal_csv = \"test_ideal.csv\"\n",
    "test_test_csv = \"test_test.csv\"\n",
    "\n",
    "# Kopieren der Produktionsdatenbank und CSV-Dateien für Testumgebung\n",
    "shutil.copy(prod_db_path, test_db_path)\n",
    "shutil.copy(prod_train_csv, test_train_csv)\n",
    "shutil.copy(prod_ideal_csv, test_ideal_csv)\n",
    "shutil.copy(prod_test_csv, test_test_csv)\n",
    "\n",
    "# Test der Kernfunktionen\n",
    "\n",
    "# Test für die Verbindung zur Datenbank\n",
    "def test_connect_to_db():\n",
    "    \"\"\"\n",
    "    Testet die Methode `connect_to_db`\n",
    "    \"\"\"\n",
    "    data_operation = DataOperation(test_db_path)\n",
    "    data_operation.connect_to_db()\n",
    "    assert data_operation.conn is not None, \"Verbindung zur Datenbank konnte nicht hergestellt werden.\"\n",
    "\n",
    "# Test für den Datenimport\n",
    "def test_import_data():\n",
    "    \"\"\"\n",
    "    Testet die Methode `import_data`\n",
    "    \"\"\"\n",
    "    data_importer = DataImport(test_db_path)\n",
    "    data_importer.connect_to_db()\n",
    "    data_importer.import_data(test_train_csv, 'training_data')\n",
    "    data_importer.import_data(test_ideal_csv, 'ideal_functions')\n",
    "    data_importer.import_data(test_test_csv, 'test_data')\n",
    "  \n",
    "    # Überprüfung, ob Daten importiert wurden\n",
    "    train_df = pd.read_sql(\"SELECT * FROM training_data\", data_importer.conn)\n",
    "    ideal_df = pd.read_sql(\"SELECT * FROM ideal_functions\", data_importer.conn)\n",
    "    test_df = pd.read_sql(\"SELECT * FROM test_data\", data_importer.conn)\n",
    "\n",
    "    assert not train_df.empty, \"Trainingsdaten wurden nicht korrekt importiert.\"\n",
    "    assert not ideal_df.empty, \"Ideale Funktionen wurden nicht korrekt importiert.\"\n",
    "    assert not test_df.empty, \"Testdaten wurden nicht korrekt importiert.\"\n",
    "    \n",
    " # Test für das Finden der besten Passungen\n",
    "def test_find_best_fits():\n",
    "    \"\"\"\n",
    "    Testet die Methode `find_best_fits`\n",
    "    \"\"\"\n",
    "    analysis = DataAnalysis(\"test_database.sqlite\")\n",
    "    analysis.connect_to_db()\n",
    "    analysis.load_data_from_sql()\n",
    "    analysis.find_best_fits()\n",
    "    \n",
    "    assert not analysis.best_fits_df.empty, \"DataFrame mit besten Passungen ist leer.\"\n",
    "    assert len(analysis.best_fits_df) == 4, \"DataFrame mit besten Passungen enthält nicht die erwartete Anzahl an Zeilen.\"\n",
    "\n",
    "# Test für die Berechnung der maximalen Abweichungen\n",
    "def test_calculate_max_deviations():\n",
    "    \"\"\"\n",
    "    Testet die Methode `calculate_max_deviations`\n",
    "    \"\"\"\n",
    "    analysis = DataAnalysis(\"test_database.sqlite\")\n",
    "    analysis.connect_to_db()\n",
    "    analysis.load_data_from_sql()\n",
    "    analysis.find_best_fits()\n",
    "    analysis.calculate_max_deviations()\n",
    "    \n",
    "    assert len(analysis.max_deviations) == len(analysis.best_fits_df), \"Anzahl der maximalen Abweichungen stimmt nicht mit der Anzahl der besten Passungen überein.\"\n",
    "    for deviation in analysis.max_deviations.values():\n",
    "        assert deviation >= 0, \"Eine maximale Abweichung ist negativ.\"\n",
    "\n",
    "# Test für die Validierung der Testdaten\n",
    "def test_validate_test_data():\n",
    "    \"\"\"\n",
    "    Testet die Methode `validate_test_data`\n",
    "    \"\"\"\n",
    "    analysis = DataAnalysis(\"test_database.sqlite\")\n",
    "    analysis.connect_to_db()\n",
    "    analysis.load_data_from_sql()\n",
    "    analysis.find_best_fits()\n",
    "    analysis.calculate_max_deviations()\n",
    "    analysis.validate_test_data()\n",
    "    \n",
    "    assert not analysis.valid_test_results_df.empty, \"DataFrame mit validierten Testdaten ist leer.\"\n",
    "    assert all(analysis.valid_test_results_df[\"Abweichung\"] >= 0), \"Es existiert eine negative Abweichung in den validierten Testdaten.\"   \n",
    "\n",
    "# Ausführung der Tests\n",
    "ipytest.run()"
   ]
  },
  {
   "cell_type": "code",
   "execution_count": null,
   "id": "87f52e58",
   "metadata": {},
   "outputs": [],
   "source": []
  }
 ],
 "metadata": {
  "editor": "DataCamp Workspace",
  "kernelspec": {
   "display_name": "Python 3 (ipykernel)",
   "language": "python",
   "name": "python3"
  },
  "language_info": {
   "codemirror_mode": {
    "name": "ipython",
    "version": 3
   },
   "file_extension": ".py",
   "mimetype": "text/x-python",
   "name": "python",
   "nbconvert_exporter": "python",
   "pygments_lexer": "ipython3",
   "version": "3.11.5"
  }
 },
 "nbformat": 4,
 "nbformat_minor": 5
}

import pandas as pd
import sqlite3
import numpy as np

class DataOperation:
    """
    Bietet Operationen für die Datenbankverbindung.

    Attributes:
        db_path (str): Pfad zur SQLite-Datenbankdatei.
        conn (sqlite3.Connection): Verbindung zur SQLite-Datenbank. Initialisiert als None.
    """

    def __init__(self, db_path):
        """
        Initialisiert die DataOperation-Klasse mit dem Pfad zur Datenbank.

        Args:
            db_path (str): Pfad zur SQLite-Datenbankdatei.
        """
        self.db_path = db_path
        self.conn = None

    def connect_to_db(self):
        """
        Stellt eine Verbindung zur SQLite-Datenbank her.

        Raises:
            sqlite3.Error: Fehler bei der Verbindungsherstellung zur Datenbank.
        """
        try:
            self.conn = sqlite3.connect(self.db_path)
        except sqlite3.Error as e:
            print(f"Fehler bei der Verbindung zur DB: {e}")
            raise
        finally:
            print("DB-Verbindung i.O.")


class DataImport(DataOperation):
    """
    Erweitert DataOperation um folgenden Funktionen:
    - Importieren von Daten aus CSV-Dateien in die Datenbank.
    - Durchführung einer SQL-Abfrage.
    """

    def import_data(self, file_path, table_name):
        """
        Importiert Daten aus einer CSV-Datei in eine SQLite-DB.

        Args:
            file_path (str): Pfad zur CSV-Datei, die importiert werden soll.
            table_name (str): Name der Datenbanktabelle, in die die Daten importiert werden sollen.

        Raises:
            Exception: Fehler beim Importieren der Daten in die Datenbank.
        """
        try:
            df = pd.read_csv(file_path)
            df.to_sql(table_name, self.conn, if_exists='replace', index=False)
        except Exception as e:
            print(f"Fehler beim Datenimport: {e}")
            raise
        finally:
            print(f"Daten erfolgreich importiert zu {table_name}.")

    def query_data(self, query):
        """
        Führt eine SQL-Abfrage aus und gibt die Ergebnisse in einem DataFrame zurück.

        Args:
            query (str): Die auszuführende SQL-Abfrage.

        Returns:
            pandas.DataFrame: Die Ergebnisse der SQL-Abfrage als DataFrame.

        Raises:
            sqlite3.Error: Fehler bei der Ausführung der SQL-Abfrage.
        """
        try:
            return pd.read_sql_query(query, self.conn)
        except sqlite3.Error as e:
            print(f"Fehler bei der SQL-Abfrage: {e}")
            raise
        finally:
            print("SQL-Abfrage i.O.")

# Erstellung der SQLite DB und Verbindung zur DB
try:
    db_path = 'database.db'
    data_importer = DataImport(db_path)
    data_importer.connect_to_db()
except Exception as e:
    print(f"Fehler bei der Erstellung der DB: {e}") 
finally:
    print("SQL-DB erstellt")

# Importieren von Daten
try:
    data_importer.import_data('train.csv', 'training_data')
    data_importer.import_data('ideal.csv', 'ideal_functions')
    data_importer.import_data('test.csv', 'test_data')
except Exception as e:
    print(f"Fehler beim Laden der Daten: {e}")
finally:
    print("SQL-Tabellen erstellt")
